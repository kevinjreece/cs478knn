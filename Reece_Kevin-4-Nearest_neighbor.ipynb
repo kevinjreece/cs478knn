{
 "cells": [
  {
   "cell_type": "code",
   "execution_count": 1,
   "metadata": {
    "collapsed": false
   },
   "outputs": [],
   "source": [
    "import arff\n",
    "from nearest_neighbor import NearestNeighbor\n",
    "import numpy as np"
   ]
  },
  {
   "cell_type": "markdown",
   "metadata": {},
   "source": [
    "# Load data"
   ]
  },
  {
   "cell_type": "code",
   "execution_count": 2,
   "metadata": {
    "collapsed": true
   },
   "outputs": [],
   "source": [
    "mt_train_file = \"../arffs/mt_train.arff\"\n",
    "mt_train_arff = arff.load(open(mt_train_file, 'rb'))\n",
    "mt_train_data = np.array(map(lambda y: map(str, y), mt_train_arff['data']))\n",
    "\n",
    "mt_test_file = \"../arffs/mt_test.arff\"\n",
    "mt_test_arff = arff.load(open(mt_test_file, 'rb'))\n",
    "mt_test_data = np.array(map(lambda y: map(str, y), mt_test_arff['data']))"
   ]
  },
  {
   "cell_type": "code",
   "execution_count": 3,
   "metadata": {
    "collapsed": false
   },
   "outputs": [],
   "source": [
    "k_neighbors = 3\n",
    "mt_nn = NearestNeighbor(k_neighbors)"
   ]
  },
  {
   "cell_type": "code",
   "execution_count": 5,
   "metadata": {
    "collapsed": false
   },
   "outputs": [
    {
     "name": "stdout",
     "output_type": "stream",
     "text": [
      "possible_labels: ['a', 'b']\n",
      "\n",
      "\r",
      "1/6\t16.67% \r",
      "2/6\t33.33% \r",
      "3/6\t50.00% \r",
      "4/6\t66.67% \r",
      "5/6\t83.33% \r",
      "6/6\t100.00% 1.0\n"
     ]
    }
   ],
   "source": [
    "train_data = np.array([['0.0', '0.0', 'a'], \n",
    "                      ['1.0', '0.0', 'a'], \n",
    "                      ['-1.0', '0.0', 'a'], \n",
    "                      ['10.0', '0.0', 'b'], \n",
    "                      ['11.0', '0.0', 'b'], \n",
    "                      ['12.0', '0.0', 'b']])\n",
    "\n",
    "test_data = np.array([['-2.0', '0.0', 'a'], \n",
    "                      ['13.0', '0.0', 'b']])\n",
    "mt_nn.learn(train_data)\n",
    "print mt_nn.measureAccuracy(train_data)"
   ]
  },
  {
   "cell_type": "code",
   "execution_count": 9,
   "metadata": {
    "collapsed": false
   },
   "outputs": [
    {
     "name": "stdout",
     "output_type": "stream",
     "text": [
      "possible_labels: ['h', 'g']\n",
      "\n",
      "\n",
      "100/100\t100.00% 0.8\n"
     ]
    }
   ],
   "source": [
    "mt_nn.learn(mt_train_data[:10000])\n",
    "print\n",
    "print mt_nn.measureAccuracy(mt_test_data[:100])"
   ]
  },
  {
   "cell_type": "code",
   "execution_count": null,
   "metadata": {
    "collapsed": false
   },
   "outputs": [],
   "source": [
    "print mt_train_data[1]\n"
   ]
  },
  {
   "cell_type": "code",
   "execution_count": null,
   "metadata": {
    "collapsed": false
   },
   "outputs": [],
   "source": [
    "print mt_train_data.shape\n",
    "print train_data.shape\n",
    "print test_data.shape"
   ]
  },
  {
   "cell_type": "code",
   "execution_count": null,
   "metadata": {
    "collapsed": false
   },
   "outputs": [],
   "source": [
    "for i in mt_nn.calcDistMatrix(train_data, test_data):\n",
    "    print i"
   ]
  },
  {
   "cell_type": "code",
   "execution_count": null,
   "metadata": {
    "collapsed": false
   },
   "outputs": [],
   "source": [
    "temp = mt_nn.calcDistMatrix(mt_train_data[:5], mt_test_data[:5])\n",
    "for i in temp:\n",
    "    print i\n",
    "print\n",
    "print mt_train_data[:5]\n",
    "print\n",
    "print mt_test_data[:5]"
   ]
  },
  {
   "cell_type": "code",
   "execution_count": null,
   "metadata": {
    "collapsed": true
   },
   "outputs": [],
   "source": []
  }
 ],
 "metadata": {
  "kernelspec": {
   "display_name": "Python 2",
   "language": "python",
   "name": "python2"
  },
  "language_info": {
   "codemirror_mode": {
    "name": "ipython",
    "version": 2
   },
   "file_extension": ".py",
   "mimetype": "text/x-python",
   "name": "python",
   "nbconvert_exporter": "python",
   "pygments_lexer": "ipython2",
   "version": "2.7.10"
  }
 },
 "nbformat": 4,
 "nbformat_minor": 0
}
